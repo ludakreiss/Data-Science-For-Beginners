{
  "nbformat": 4,
  "nbformat_minor": 0,
  "metadata": {
    "colab": {
      "provenance": [],
      "authorship_tag": "ABX9TyNMDxrF2eHd9qZKvJ1+JmqI"
    },
    "kernelspec": {
      "name": "python3",
      "display_name": "Python 3"
    },
    "language_info": {
      "name": "python"
    }
  },
  "cells": [
    {
      "cell_type": "code",
      "execution_count": null,
      "metadata": {
        "id": "TG_yEQ36EEKT"
      },
      "outputs": [],
      "source": [
        "\"\"\"\n",
        "The goal here is to process each dataset so that each of them can be concatenated together into one big dataset.\n",
        "Then that one big dataset can be used to train, validate, and test the model.\n",
        "\"\"\"\n"
      ]
    },
    {
      "cell_type": "code",
      "source": [
        "import pandas as pd\n",
        "from sklearn.utils import shuffle"
      ],
      "metadata": {
        "id": "24z1ZuMwJDwT"
      },
      "execution_count": 87,
      "outputs": []
    },
    {
      "cell_type": "code",
      "source": [
        "df_dataset1 = pd.read_csv(\"Dataset #1.csv\")\n",
        "print(df_dataset1.head())"
      ],
      "metadata": {
        "colab": {
          "base_uri": "https://localhost:8080/"
        },
        "id": "qR1-aHtBJlKE",
        "outputId": "8ce78b26-1683-47fd-f383-9b25ecbf2629"
      },
      "execution_count": 64,
      "outputs": [
        {
          "output_type": "stream",
          "name": "stdout",
          "text": [
            "                         url        type\n",
            "0     https://www.google.com  legitimate\n",
            "1    https://www.youtube.com  legitimate\n",
            "2   https://www.facebook.com  legitimate\n",
            "3      https://www.baidu.com  legitimate\n",
            "4  https://www.wikipedia.org  legitimate\n"
          ]
        }
      ]
    },
    {
      "cell_type": "code",
      "source": [
        "print(f\"Dataset #1 has {df_dataset1.shape[0]} URLs\" )"
      ],
      "metadata": {
        "colab": {
          "base_uri": "https://localhost:8080/"
        },
        "id": "1cTm6b5zbGlK",
        "outputId": "a8cb714a-e898-4b5a-a438-ea63bef86d1a"
      },
      "execution_count": 65,
      "outputs": [
        {
          "output_type": "stream",
          "name": "stdout",
          "text": [
            "Dataset #1 has 450176 URLs\n"
          ]
        }
      ]
    },
    {
      "cell_type": "code",
      "source": [
        "#phishing == 1\n",
        "#benign == 0\n",
        "df_dataset1.loc[:, 'type'] = df_dataset1['type'].replace({'phishing': 1, 'legitimate': 0})\n",
        "print(df_dataset1)"
      ],
      "metadata": {
        "colab": {
          "base_uri": "https://localhost:8080/"
        },
        "id": "8FkaIcgjc81q",
        "outputId": "cdc9f0de-abb8-4a93-bae7-afc27ff7c399"
      },
      "execution_count": 74,
      "outputs": [
        {
          "output_type": "stream",
          "name": "stdout",
          "text": [
            "                                                      url  type\n",
            "0                                  https://www.google.com     0\n",
            "1                                 https://www.youtube.com     0\n",
            "2                                https://www.facebook.com     0\n",
            "3                                   https://www.baidu.com     0\n",
            "4                               https://www.wikipedia.org     0\n",
            "...                                                   ...   ...\n",
            "450171        http://ecct-it.com/docmmmnn/aptgd/index.php     1\n",
            "450172  http://faboleena.com/js/infortis/jquery/plugin...     1\n",
            "450173  http://faboleena.com/js/infortis/jquery/plugin...     1\n",
            "450174                             http://atualizapj.com/     1\n",
            "450175  http://writeassociate.com/test/Portal/inicio/I...     1\n",
            "\n",
            "[450176 rows x 2 columns]\n"
          ]
        }
      ]
    },
    {
      "cell_type": "code",
      "source": [
        "df_dataset1 = shuffle(df_dataset1)\n",
        "print(df_dataset1)"
      ],
      "metadata": {
        "colab": {
          "base_uri": "https://localhost:8080/"
        },
        "id": "ineZFrZFkDGB",
        "outputId": "29a2d696-e261-4110-db71-08e824ceb312"
      },
      "execution_count": 88,
      "outputs": [
        {
          "output_type": "stream",
          "name": "stdout",
          "text": [
            "                                                      url  type\n",
            "379713  http://dmx2.com.br/data1/images/index.php?emai...     1\n",
            "205029  https://www.goal.com/en-us/news/2617/youth-soc...     0\n",
            "317469              https://www.veromi.com/Ryan-Cupp.aspx     0\n",
            "383183  http://revistamercado.com.do/suscripciones/scr...     1\n",
            "162219       https://www.chelkogroup.com/coreTeam_Jim.php     0\n",
            "...                                                   ...   ...\n",
            "370143                                 http://atacre.com/     1\n",
            "168398  https://www.corporationwiki.com/people/index.a...     0\n",
            "30700   https://www.en.wikipedia.org/wiki/Brian_Johnso...     0\n",
            "418035                      http://dcfkafkeacbmnlaa.com /     1\n",
            "119790   https://www.wn.com/Nickelodeon_Animation_Studios     0\n",
            "\n",
            "[450176 rows x 2 columns]\n"
          ]
        }
      ]
    },
    {
      "cell_type": "code",
      "source": [
        "df_dataset2 = pd.read_csv(\"Dataset #2.csv\")\n",
        "print(df_dataset2.head())"
      ],
      "metadata": {
        "colab": {
          "base_uri": "https://localhost:8080/"
        },
        "id": "Hi7dDvLhbd3p",
        "outputId": "56eadf39-502b-4910-bfff-6a1a2f158839"
      },
      "execution_count": 79,
      "outputs": [
        {
          "output_type": "stream",
          "name": "stdout",
          "text": [
            "                                                 url  length_url  \\\n",
            "0              http://www.crestonwood.com/router.php          37   \n",
            "1  http://shadetreetechnology.com/V4/validation/a...          77   \n",
            "2  https://support-appleld.com.secureupdate.duila...         126   \n",
            "3                                 http://rgipt.ac.in          18   \n",
            "4  http://www.iracing.com/tracks/gateway-motorspo...          55   \n",
            "\n",
            "   length_hostname  ip  nb_dots  nb_hyphens  nb_at  nb_qm  nb_and  nb_or  ...  \\\n",
            "0               19   0        3           0      0      0       0      0  ...   \n",
            "1               23   1        1           0      0      0       0      0  ...   \n",
            "2               50   1        4           1      0      1       2      0  ...   \n",
            "3               11   0        2           0      0      0       0      0  ...   \n",
            "4               15   0        2           2      0      0       0      0  ...   \n",
            "\n",
            "   domain_in_title  domain_with_copyright  whois_registered_domain  \\\n",
            "0                0                      1                        0   \n",
            "1                1                      0                        0   \n",
            "2                1                      0                        0   \n",
            "3                1                      0                        0   \n",
            "4                0                      1                        0   \n",
            "\n",
            "   domain_registration_length  domain_age  web_traffic  dns_record  \\\n",
            "0                          45          -1            0           1   \n",
            "1                          77        5767            0           0   \n",
            "2                          14        4004      5828815           0   \n",
            "3                          62          -1       107721           0   \n",
            "4                         224        8175         8725           0   \n",
            "\n",
            "   google_index  page_rank      status  \n",
            "0             1          4  legitimate  \n",
            "1             1          2    phishing  \n",
            "2             1          0    phishing  \n",
            "3             0          3  legitimate  \n",
            "4             0          6  legitimate  \n",
            "\n",
            "[5 rows x 89 columns]\n"
          ]
        }
      ]
    },
    {
      "cell_type": "code",
      "source": [
        "print(f\"Dataset #2 has {df_dataset2.shape[0]} URLs\" )"
      ],
      "metadata": {
        "colab": {
          "base_uri": "https://localhost:8080/"
        },
        "id": "SQYgvjhPbmSI",
        "outputId": "233e4e29-d376-4d4b-ad72-3e95b1bb62b4"
      },
      "execution_count": 80,
      "outputs": [
        {
          "output_type": "stream",
          "name": "stdout",
          "text": [
            "Dataset #2 has 11430 URLs\n"
          ]
        }
      ]
    },
    {
      "cell_type": "code",
      "source": [
        "df_dataset2 = df_dataset2[['url', 'status']]\n",
        "\n",
        "df_dataset2.loc[:, 'status'] = df_dataset2['status'].replace({'phishing': 1, 'legitimate': 0})\n",
        "print(df_dataset2)"
      ],
      "metadata": {
        "colab": {
          "base_uri": "https://localhost:8080/"
        },
        "id": "efkWTwE_fgjH",
        "outputId": "ac20af6a-c5a1-42e5-b0bd-435a562df7f4"
      },
      "execution_count": 81,
      "outputs": [
        {
          "output_type": "stream",
          "name": "stdout",
          "text": [
            "                                                     url status\n",
            "0                  http://www.crestonwood.com/router.php      0\n",
            "1      http://shadetreetechnology.com/V4/validation/a...      1\n",
            "2      https://support-appleld.com.secureupdate.duila...      1\n",
            "3                                     http://rgipt.ac.in      0\n",
            "4      http://www.iracing.com/tracks/gateway-motorspo...      0\n",
            "...                                                  ...    ...\n",
            "11425      http://www.fontspace.com/category/blackletter      0\n",
            "11426  http://www.budgetbots.com/server.php/Server%20...      1\n",
            "11427  https://www.facebook.com/Interactive-Televisio...      0\n",
            "11428             http://www.mypublicdomainpictures.com/      0\n",
            "11429  http://174.139.46.123/ap/signin?openid.pape.ma...      1\n",
            "\n",
            "[11430 rows x 2 columns]\n"
          ]
        },
        {
          "output_type": "stream",
          "name": "stderr",
          "text": [
            "<ipython-input-81-375c35f4d08a>:3: FutureWarning: Downcasting behavior in `replace` is deprecated and will be removed in a future version. To retain the old behavior, explicitly call `result.infer_objects(copy=False)`. To opt-in to the future behavior, set `pd.set_option('future.no_silent_downcasting', True)`\n",
            "  df_dataset2.loc[:, 'status'] = df_dataset2['status'].replace({'phishing': 1, 'legitimate': 0})\n"
          ]
        }
      ]
    },
    {
      "cell_type": "code",
      "source": [
        "df_dataset2 = shuffle(df_dataset2)\n",
        "print(df_dataset2)"
      ],
      "metadata": {
        "colab": {
          "base_uri": "https://localhost:8080/"
        },
        "id": "Zh9F0S39kN5o",
        "outputId": "61d20b86-683e-4a36-9c6f-2f549519772c"
      },
      "execution_count": 89,
      "outputs": [
        {
          "output_type": "stream",
          "name": "stdout",
          "text": [
            "                                                     url status\n",
            "4124                  http://sekabetgiriss1.blogspot.com      1\n",
            "3039   https://docs.google.com/forms/d/e/1FAIpQLSe0H5...      1\n",
            "3769                     https://www.hersenstichting.nl/      0\n",
            "9261                         https://www.autoshowny.com/      0\n",
            "7741                                 https://py.pl/WE8nQ      1\n",
            "...                                                  ...    ...\n",
            "10161  http://www.investopedia.com/terms/p/peertopeer...      0\n",
            "10914  https://wakeup-world.com/2017/06/09/how-music-...      0\n",
            "5828        http://dic.academic.ru/dic.nsf/ruwiki/233279      0\n",
            "7844                    http://limitlessearn.com/log_in/      1\n",
            "94                                    https://apshop.vn/      0\n",
            "\n",
            "[11430 rows x 2 columns]\n"
          ]
        }
      ]
    },
    {
      "cell_type": "code",
      "source": [
        "df_dataset3 = pd.read_csv(\"Dataset #3.csv\")\n",
        "print(df_dataset3.head())"
      ],
      "metadata": {
        "colab": {
          "base_uri": "https://localhost:8080/"
        },
        "id": "F4SfSjq-bxAX",
        "outputId": "061d5d52-b1d5-4f08-c615-cf9f3b02e30d"
      },
      "execution_count": 82,
      "outputs": [
        {
          "output_type": "stream",
          "name": "stdout",
          "text": [
            "                                                 url        type\n",
            "0                                   br-icloud.com.br    phishing\n",
            "1                mp3raid.com/music/krizz_kaliko.html      benign\n",
            "2                    bopsecrets.org/rexroth/cr/1.htm      benign\n",
            "3  http://www.garage-pirenne.be/index.php?option=...  defacement\n",
            "4  http://adventure-nicaragua.net/index.php?optio...  defacement\n"
          ]
        }
      ]
    },
    {
      "cell_type": "code",
      "source": [
        "df_dataset3 = df_dataset3.loc[df_dataset3['type'] != 'defacement'] #since this dataset has a third class of defacement URLs, we will remove the defacement URLs to only have phishing or benign\n",
        "print(f\"Dataset #3 has {df_dataset3.shape[0]} URLs\" )"
      ],
      "metadata": {
        "colab": {
          "base_uri": "https://localhost:8080/"
        },
        "id": "S6FJ1em0b1bI",
        "outputId": "1e07148d-0024-42a5-9eb4-97d2df729af7"
      },
      "execution_count": 84,
      "outputs": [
        {
          "output_type": "stream",
          "name": "stdout",
          "text": [
            "Dataset #3 has 554734 URLs\n"
          ]
        }
      ]
    },
    {
      "cell_type": "code",
      "source": [
        "df_dataset3.loc[:, 'type'] = df_dataset3['type'].replace({'phishing': 1, 'benign': 0})\n",
        "print(df_dataset3)"
      ],
      "metadata": {
        "colab": {
          "base_uri": "https://localhost:8080/"
        },
        "id": "U_nWWFZkc3y8",
        "outputId": "3050af08-1857-4f9a-d7a3-4d20ece8848f"
      },
      "execution_count": 85,
      "outputs": [
        {
          "output_type": "stream",
          "name": "stdout",
          "text": [
            "                                                      url type\n",
            "0                                        br-icloud.com.br    1\n",
            "1                     mp3raid.com/music/krizz_kaliko.html    0\n",
            "2                         bopsecrets.org/rexroth/cr/1.htm    0\n",
            "5       http://buzzfil.net/m/show-art/ils-etaient-loin...    0\n",
            "6           espn.go.com/nba/player/_/id/3457/brandon-rush    0\n",
            "...                                                   ...  ...\n",
            "651186            xbox360.ign.com/objects/850/850402.html    1\n",
            "651187       games.teamxbox.com/xbox-360/1860/Dead-Space/    1\n",
            "651188         www.gamespot.com/xbox360/action/deadspace/    1\n",
            "651189      en.wikipedia.org/wiki/Dead_Space_(video_game)    1\n",
            "651190          www.angelfire.com/goth/devilmaycrytonite/    1\n",
            "\n",
            "[554734 rows x 2 columns]\n"
          ]
        }
      ]
    },
    {
      "cell_type": "code",
      "source": [
        "df_dataset3 = shuffle(df_dataset3)\n",
        "print(df_dataset3)"
      ],
      "metadata": {
        "colab": {
          "base_uri": "https://localhost:8080/"
        },
        "id": "NMPiX_t8kXC7",
        "outputId": "8df535a1-6e33-44bf-ff1a-6e4dcc0db9b6"
      },
      "execution_count": 90,
      "outputs": [
        {
          "output_type": "stream",
          "name": "stdout",
          "text": [
            "                                                      url type\n",
            "562856  markewarn.com/wordpress/wp-includes/theme-comp...    0\n",
            "365725  itunes.apple.com/us/podcast/ring-of-fire-green...    0\n",
            "490530  gobearcats.com/sports/m-baskbl/spec-rel/cinn-m...    0\n",
            "100843                                 phsfoundation.org/    0\n",
            "225969  http://graphicriver.net/item/the-killer-combo-...    0\n",
            "...                                                   ...  ...\n",
            "131036  https://soundcloud.com/ffrr-records/oliver-hel...    0\n",
            "640729      lxer.com/module/newswire/view/8009/index.html    1\n",
            "123470  diaryofahollywoodstreetking.com/eddie-griffin-...    0\n",
            "14356                     youtube.com/watch?v=HulylNbIK8c    0\n",
            "14322            fanpix.net/gallery/max-gail-pictures.htm    0\n",
            "\n",
            "[554734 rows x 2 columns]\n"
          ]
        }
      ]
    }
  ]
}